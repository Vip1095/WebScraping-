{
 "cells": [
  {
   "cell_type": "code",
   "execution_count": 5,
   "metadata": {},
   "outputs": [
    {
     "name": "stdout",
     "output_type": "stream",
     "text": [
      "Enter the number of element that to be inserted:-4\n",
      "Enter elements:-4\n",
      "Average of elements in the list 1.0\n",
      "Enter elements:-8\n",
      "Average of elements in the list 3.0\n",
      "Enter elements:-9\n",
      "Average of elements in the list 5.25\n",
      "Enter elements:-6\n",
      "Average of elements in the list 6.75\n"
     ]
    }
   ],
   "source": [
    "\n",
    "n = int(input(\"Enter the number of element that to be inserted:-\"))\n",
    "a = []\n",
    "for i in range(0,n):\n",
    "    numbers=int(input(\"Enter elements:-\"))\n",
    "    a.append(numbers)\n",
    "    avg = sum(a)/n\n",
    "    print(\"Average of elements in the list\",avg)"
   ]
  },
  {
   "cell_type": "code",
   "execution_count": null,
   "metadata": {
    "collapsed": true
   },
   "outputs": [],
   "source": []
  },
  {
   "cell_type": "code",
   "execution_count": null,
   "metadata": {
    "collapsed": true
   },
   "outputs": [],
   "source": []
  }
 ],
 "metadata": {
  "kernelspec": {
   "display_name": "Python 3",
   "language": "python",
   "name": "python3"
  },
  "language_info": {
   "codemirror_mode": {
    "name": "ipython",
    "version": 3
   },
   "file_extension": ".py",
   "mimetype": "text/x-python",
   "name": "python",
   "nbconvert_exporter": "python",
   "pygments_lexer": "ipython3",
   "version": "3.6.3"
  }
 },
 "nbformat": 4,
 "nbformat_minor": 2
}
