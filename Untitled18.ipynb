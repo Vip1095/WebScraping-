{
 "cells": [
  {
   "cell_type": "code",
   "execution_count": 1,
   "metadata": {},
   "outputs": [],
   "source": [
    "import webbrowser\n",
    "import string\n",
    "import speech_recognition as sr\n",
    "import pyaudio"
   ]
  },
  {
   "cell_type": "code",
   "execution_count": 2,
   "metadata": {},
   "outputs": [
    {
     "name": "stdout",
     "output_type": "stream",
     "text": [
      "Hello, what can i help you find?[Player lookup,Weather,resturants, or just to search the web: ]\n"
     ]
    }
   ],
   "source": [
    "r = sr.Recognizer()\n",
    "with sr.Microphone() as source:\n",
    "    print(\"Hello, what can i help you find?[Player lookup,Weather,resturants, or just to search the web: ]\")\n",
    "    audio = r.listen(source)\n",
    "    "
   ]
  },
  {
   "cell_type": "code",
   "execution_count": 4,
   "metadata": {},
   "outputs": [],
   "source": [
    "if \"player\" in r.recognize_google(audio):\n",
    "    # obtain audio from the microphone\n",
    "    r2 = sr.Recognizer()\n",
    "    url = 'https://en.wikipedia.org/wiki/'\n",
    "    with sr.Microphone() as source:\n",
    "        print(\"Say any sports players name to see there Bio: \")\n",
    "        audio2 = r2.listen(source)\n",
    "\n",
    "        try:\n",
    "            print(\"Google Speech Recognition thinks you said \" + r2.recognize_google(audio2))\n",
    "            webbrowser.open_new(url+r2.recognize_google(audio2))\n",
    "        except sr.UnknownValueError:\n",
    "            print(\"Google Speech Recognition could not understand audio\")\n",
    "        except sr.RequestError as e:\n",
    "               print(\"Could not request results from Google Speech Recognition service; {0}\".format(e))"
   ]
  },
  {
   "cell_type": "code",
   "execution_count": null,
   "metadata": {},
   "outputs": [],
   "source": []
  }
 ],
 "metadata": {
  "kernelspec": {
   "display_name": "Python 3",
   "language": "python",
   "name": "python3"
  },
  "language_info": {
   "codemirror_mode": {
    "name": "ipython",
    "version": 3
   },
   "file_extension": ".py",
   "mimetype": "text/x-python",
   "name": "python",
   "nbconvert_exporter": "python",
   "pygments_lexer": "ipython3",
   "version": "3.6.4"
  }
 },
 "nbformat": 4,
 "nbformat_minor": 2
}
