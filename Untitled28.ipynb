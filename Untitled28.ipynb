{
 "cells": [
  {
   "cell_type": "code",
   "execution_count": 1,
   "metadata": {},
   "outputs": [
    {
     "name": "stderr",
     "output_type": "stream",
     "text": [
      "F:\\anacon\\lib\\site-packages\\h5py\\__init__.py:36: FutureWarning: Conversion of the second argument of issubdtype from `float` to `np.floating` is deprecated. In future, it will be treated as `np.float64 == np.dtype(float).type`.\n",
      "  from ._conv import register_converters as _register_converters\n",
      "Using TensorFlow backend.\n"
     ]
    }
   ],
   "source": [
    "import keras\n",
    "import numpy as np\n",
    "import matplotlib.pyplot as plt\n",
    "from keras.models import Sequential\n",
    "from keras.layers import Dense, Activation , MaxPool2D , Conv2D , Flatten\n",
    "from keras.optimizers import Adam\n",
    "import pandas as pd\n",
    "from sklearn.model_selection import train_test_split\n",
    "from keras.optimizers import SGD\n",
    "from sklearn.model_selection import StratifiedKFold\n"
   ]
  },
  {
   "cell_type": "code",
   "execution_count": 27,
   "metadata": {},
   "outputs": [],
   "source": [
    "def readFeaturesFile():\n",
    "    names = ['Feature1', 'Feature2', 'Feature3', 'Feature4','Feature5','Feature6','Feature7','Feature8','Feature9','Feature10','Feature11','Feature12','Feature13','Gender']\n",
    "    data_file = pd.read_csv(\"E:\\Vipul\\ML\\MLP\\Specch\\mfcc_featuresLR.txt\",names=names )\n",
    "    #return data\n",
    "   # data.head()"
   ]
  },
  {
   "cell_type": "code",
   "execution_count": 28,
   "metadata": {},
   "outputs": [
    {
     "ename": "NameError",
     "evalue": "name 'data_file' is not defined",
     "output_type": "error",
     "traceback": [
      "\u001b[1;31m---------------------------------------------------------------------------\u001b[0m",
      "\u001b[1;31mNameError\u001b[0m                                 Traceback (most recent call last)",
      "\u001b[1;32m<ipython-input-28-f1f8e11577da>\u001b[0m in \u001b[0;36m<module>\u001b[1;34m()\u001b[0m\n\u001b[1;32m----> 1\u001b[1;33m \u001b[0mdata_file\u001b[0m\u001b[1;33m.\u001b[0m\u001b[0mshow\u001b[0m\u001b[1;33m(\u001b[0m\u001b[1;33m)\u001b[0m\u001b[1;33m\u001b[0m\u001b[0m\n\u001b[0m",
      "\u001b[1;31mNameError\u001b[0m: name 'data_file' is not defined"
     ]
    }
   ],
   "source": [
    "data_file.show()"
   ]
  },
  {
   "cell_type": "code",
   "execution_count": 23,
   "metadata": {},
   "outputs": [],
   "source": [
    "def preparingData(data):\n",
    "\t# Split-out validation dataset\n",
    "\tarray = data.values\n",
    "\t#input\n",
    "\tX = array[:,0:13]\n",
    "\t#target \n",
    "\tY = array[:,13]\n",
    "\t#determine the test and the training size\n",
    "\tx_train, x_test, y_train, y_test = train_test_split(X,Y, test_size=0.10)\n",
    "\t\n",
    "#x_train = \n",
    "\t#Encode the labels\n",
    "\t#reconstruct the data as a vector with a sequence of 1s and 0s\n",
    "\ty_train = keras.utils.to_categorical(y_train, num_classes = 2)\n",
    "\ty_test = keras.utils.to_categorical(y_test, num_classes = 2)\n",
    "\treturn (x_train , x_test , y_train , y_test) \n",
    "\n"
   ]
  },
  {
   "cell_type": "code",
   "execution_count": null,
   "metadata": {},
   "outputs": [],
   "source": []
  },
  {
   "cell_type": "code",
   "execution_count": 9,
   "metadata": {},
   "outputs": [],
   "source": [
    "\n",
    "def returnData(data):\n",
    "\t# Split-out validation dataset\n",
    "\tarray = data.values\n",
    "\t#input\n",
    "\tX = array[:,0:13]\n",
    "\t#target \n",
    "\tY = array[:,13]\n",
    "\t\n",
    "\t#determine the test and the training size\n",
    "\t\n",
    "\treturn X,Y"
   ]
  },
  {
   "cell_type": "code",
   "execution_count": null,
   "metadata": {},
   "outputs": [],
   "source": [
    "\n",
    "#Multilayer Perceptron\n",
    "def testing_NN(data):\n",
    "\tX,Y = returnData(data)\n",
    "\t\n",
    "\t#determine the validation\n",
    "\tkfold = StratifiedKFold(n_splits=10,shuffle=True)\n",
    "\t#keep the results\n",
    "\tcvscores = []\n",
    "\tfor train,test in kfold.split(X,Y):\n",
    "\t\t#Define a siple Multilayer Perceptron\n",
    "\t\tmodel = Sequential()\n",
    "\n",
    "\t\t#our classification is binary\n",
    "\n",
    "\t\t#as a first step we have to define the input dimensionality\n",
    "\n",
    "\n",
    "\t\tmodel.add(Dense(14,activation='relu',input_dim=13))\n",
    "\n",
    "\n",
    "\t\t#model.add(Dense(14,activation='relu',input_dim=13))\n",
    "\t\tmodel.add(Dense(8, activation='relu'))\n",
    "\n",
    "\t\t#add another hidden layer\n",
    "\t\t#model.add(Dense(16,activation='relu'))\n",
    "\t\t#the last step , add an output layer (number of neurons = number of classes)\n",
    "\t\tmodel.add(Dense(1,activation='sigmoid'))\n",
    "\n",
    "\t\t#select the optimizer\n",
    "\t\t#adam = Adam(lr=0.0001)\n",
    "\t\tadam = Adam(lr=0.001)\n",
    "\t\t#learning rate is between 0.0001 and 0.001 , but it is objective to define it\n",
    "\t\t#because we need out model not to learn to fast and maybe we have overfitting but also \n",
    "\t\t#not to slow and take to much time . We can check this with the learning rate curve\n",
    "\t\n",
    "\t\t#we select the loss function and metrics that should be monitored\n",
    "\t\t#and then we compile our model\n",
    "\t\tmodel.compile(loss='binary_crossentropy',optimizer=adam,metrics=['accuracy'])\n",
    "\n",
    "\t\t#now we train our model\n",
    "\t\tmodel.fit(X[train],Y[train],epochs=50,batch_size=75,verbose=0)\n",
    "\n",
    "\t\t\t# evaluate the model\n",
    "\t\tscores = model.evaluate(X[test], Y[test], verbose=0)\n",
    "\t\tprint(\"%s: %.2f%%\" % (model.metrics_names[1], scores[1]*100))\n",
    "\t\tcvscores.append(scores[1] * 100)\n",
    "\n",
    "\n",
    "\tprint(\"%.2f%% (+/- %.2f%%)\" % (np.mean(cvscores), np.std(cvscores)))\n",
    "\n",
    "\n",
    "\t'''x_train , x_test , y_train , y_test = preparingData(data)\n",
    "\t\n",
    "\t#validation data =  test data\n",
    "\t#only for the plot\n",
    "\tresults = model.fit(x_train,y_train,epochs=50,batch_size=75,verbose=2,validation_data=(x_test,y_test))\n",
    "\n",
    "\tplt.figure(1)\n",
    "\tplt.plot(results.history['loss'])\n",
    "\tplt.plot(results.history['val_loss'])\n",
    "\tplt.legend(['train loss', 'test loss'])\n",
    "\tplt.show()\n",
    "\n",
    "\n",
    "\n",
    "\n",
    "\t#now we can evaluate our model\n",
    "\tprint '\\n'\n",
    "\tprint 'Train accuracy: ' , model.evaluate(x_train,y_train,batch_size=25)\n",
    "\tprint 'Test accuracy: ',model.evaluate(x_test,y_test,batch_size=25)\n",
    "\n",
    "\t#visualize the actual output of the network\n",
    "\toutput = model.predict(x_train)\n",
    "\tprint '\\n'\n",
    "\tprint 'Actual output: ',output[0],np.argmax(output[0])\n",
    "\n",
    "\t#we can also check our model behaviour in depth\n",
    "\tprint'\\n'\n",
    "\t#print the first ten predictions\n",
    "\tfor x in range(10):\n",
    "\t\tprint 'Prediction: ',np.argsort(output[x])[::-1],'True target: ',np.argmax(y_train[x])'''\n",
    "\n"
   ]
  }
 ],
 "metadata": {
  "kernelspec": {
   "display_name": "Python 3",
   "language": "python",
   "name": "python3"
  },
  "language_info": {
   "codemirror_mode": {
    "name": "ipython",
    "version": 3
   },
   "file_extension": ".py",
   "mimetype": "text/x-python",
   "name": "python",
   "nbconvert_exporter": "python",
   "pygments_lexer": "ipython3",
   "version": "3.6.4"
  }
 },
 "nbformat": 4,
 "nbformat_minor": 2
}
