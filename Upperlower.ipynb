{
 "cells": [
  {
   "cell_type": "code",
   "execution_count": 2,
   "metadata": {},
   "outputs": [
    {
     "name": "stdout",
     "output_type": "stream",
     "text": [
      "ENter the String:-lldfhhDLIHIsdlHDL\n",
      "UPPERCASE:-- 8\n",
      "lowercase:-- 9\n"
     ]
    }
   ],
   "source": [
    "string = input(\"ENter the String:-\")\n",
    "c1=0\n",
    "c2=0\n",
    "for i in string:\n",
    "    if(i.islower()):\n",
    "        c1=c1+1\n",
    "    if(i.isupper()):\n",
    "        c2=c2+1\n",
    "print(\"UPPERCASE:--\",c2)\n",
    "print(\"lowercase:--\",c1)"
   ]
  },
  {
   "cell_type": "code",
   "execution_count": null,
   "metadata": {
    "collapsed": true
   },
   "outputs": [],
   "source": []
  },
  {
   "cell_type": "code",
   "execution_count": null,
   "metadata": {
    "collapsed": true
   },
   "outputs": [],
   "source": []
  }
 ],
 "metadata": {
  "kernelspec": {
   "display_name": "Python 3",
   "language": "python",
   "name": "python3"
  },
  "language_info": {
   "codemirror_mode": {
    "name": "ipython",
    "version": 3
   },
   "file_extension": ".py",
   "mimetype": "text/x-python",
   "name": "python",
   "nbconvert_exporter": "python",
   "pygments_lexer": "ipython3",
   "version": "3.6.3"
  }
 },
 "nbformat": 4,
 "nbformat_minor": 2
}
