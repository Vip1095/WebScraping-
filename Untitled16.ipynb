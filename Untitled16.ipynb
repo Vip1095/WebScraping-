{
 "cells": [
  {
   "cell_type": "code",
   "execution_count": 16,
   "metadata": {},
   "outputs": [],
   "source": [
    "import webbrowser\n",
    "import string\n",
    "import speech_recognition as sr\n",
    "import pyaudio"
   ]
  },
  {
   "cell_type": "code",
   "execution_count": 17,
   "metadata": {},
   "outputs": [
    {
     "name": "stdout",
     "output_type": "stream",
     "text": [
      "Hello, what can i help you find?[Player lookup,Weather,resturants, or just to search the web: ]\n"
     ]
    }
   ],
   "source": [
    "r = sr.Recognizer()\n",
    "with sr.Microphone() as source:\n",
    "    print(\"Hello, what can i help you find?[Player lookup,Weather,resturants, or just to search the web: ]\")\n",
    "    audio = r.listen(source)"
   ]
  },
  {
   "cell_type": "code",
   "execution_count": 18,
   "metadata": {},
   "outputs": [
    {
     "ename": "UnknownValueError",
     "evalue": "",
     "output_type": "error",
     "traceback": [
      "\u001b[1;31m---------------------------------------------------------------------------\u001b[0m",
      "\u001b[1;31mUnknownValueError\u001b[0m                         Traceback (most recent call last)",
      "\u001b[1;32m<ipython-input-18-745f7dd750eb>\u001b[0m in \u001b[0;36m<module>\u001b[1;34m()\u001b[0m\n\u001b[1;32m----> 1\u001b[1;33m \u001b[1;32mif\u001b[0m \u001b[1;34m\"player\"\u001b[0m \u001b[1;32min\u001b[0m \u001b[0mr\u001b[0m\u001b[1;33m.\u001b[0m\u001b[0mrecognize_google\u001b[0m\u001b[1;33m(\u001b[0m\u001b[0maudio\u001b[0m\u001b[1;33m)\u001b[0m\u001b[1;33m:\u001b[0m\u001b[1;33m\u001b[0m\u001b[0m\n\u001b[0m\u001b[0;32m      2\u001b[0m     \u001b[1;31m# obtain audio from the microphone\u001b[0m\u001b[1;33m\u001b[0m\u001b[1;33m\u001b[0m\u001b[0m\n\u001b[0;32m      3\u001b[0m     \u001b[0mr2\u001b[0m \u001b[1;33m=\u001b[0m \u001b[0msr\u001b[0m\u001b[1;33m.\u001b[0m\u001b[0mRecognizer\u001b[0m\u001b[1;33m(\u001b[0m\u001b[1;33m)\u001b[0m\u001b[1;33m\u001b[0m\u001b[0m\n\u001b[0;32m      4\u001b[0m     \u001b[0murl\u001b[0m \u001b[1;33m=\u001b[0m \u001b[1;34m'https://en.wikipedia.org/wiki/'\u001b[0m\u001b[1;33m\u001b[0m\u001b[0m\n\u001b[0;32m      5\u001b[0m     \u001b[1;32mwith\u001b[0m \u001b[0msr\u001b[0m\u001b[1;33m.\u001b[0m\u001b[0mMicrophone\u001b[0m\u001b[1;33m(\u001b[0m\u001b[1;33m)\u001b[0m \u001b[1;32mas\u001b[0m \u001b[0msource\u001b[0m\u001b[1;33m:\u001b[0m\u001b[1;33m\u001b[0m\u001b[0m\n",
      "\u001b[1;32mF:\\anacon\\lib\\site-packages\\speech_recognition\\__init__.py\u001b[0m in \u001b[0;36mrecognize_google\u001b[1;34m(self, audio_data, key, language, show_all)\u001b[0m\n\u001b[0;32m    742\u001b[0m         \u001b[1;31m# return results\u001b[0m\u001b[1;33m\u001b[0m\u001b[1;33m\u001b[0m\u001b[0m\n\u001b[0;32m    743\u001b[0m         \u001b[1;32mif\u001b[0m \u001b[0mshow_all\u001b[0m\u001b[1;33m:\u001b[0m \u001b[1;32mreturn\u001b[0m \u001b[0mactual_result\u001b[0m\u001b[1;33m\u001b[0m\u001b[0m\n\u001b[1;32m--> 744\u001b[1;33m         \u001b[1;32mif\u001b[0m \u001b[1;32mnot\u001b[0m \u001b[0misinstance\u001b[0m\u001b[1;33m(\u001b[0m\u001b[0mactual_result\u001b[0m\u001b[1;33m,\u001b[0m \u001b[0mdict\u001b[0m\u001b[1;33m)\u001b[0m \u001b[1;32mor\u001b[0m \u001b[0mlen\u001b[0m\u001b[1;33m(\u001b[0m\u001b[0mactual_result\u001b[0m\u001b[1;33m.\u001b[0m\u001b[0mget\u001b[0m\u001b[1;33m(\u001b[0m\u001b[1;34m\"alternative\"\u001b[0m\u001b[1;33m,\u001b[0m \u001b[1;33m[\u001b[0m\u001b[1;33m]\u001b[0m\u001b[1;33m)\u001b[0m\u001b[1;33m)\u001b[0m \u001b[1;33m==\u001b[0m \u001b[1;36m0\u001b[0m\u001b[1;33m:\u001b[0m \u001b[1;32mraise\u001b[0m \u001b[0mUnknownValueError\u001b[0m\u001b[1;33m(\u001b[0m\u001b[1;33m)\u001b[0m\u001b[1;33m\u001b[0m\u001b[0m\n\u001b[0m\u001b[0;32m    745\u001b[0m \u001b[1;33m\u001b[0m\u001b[0m\n\u001b[0;32m    746\u001b[0m         \u001b[1;32mif\u001b[0m \u001b[1;34m\"confidence\"\u001b[0m \u001b[1;32min\u001b[0m \u001b[0mactual_result\u001b[0m\u001b[1;33m[\u001b[0m\u001b[1;34m\"alternative\"\u001b[0m\u001b[1;33m]\u001b[0m\u001b[1;33m:\u001b[0m\u001b[1;33m\u001b[0m\u001b[0m\n",
      "\u001b[1;31mUnknownValueError\u001b[0m: "
     ]
    }
   ],
   "source": [
    "if \"player\" in r.recognize_google(audio):\n",
    "    # obtain audio from the microphone\n",
    "    r2 = sr.Recognizer()\n",
    "    url = 'https://en.wikipedia.org/wiki/'\n",
    "    with sr.Microphone() as source:\n",
    "        print(\"Say any sports players name to see there Bio: \")\n",
    "        audio2 = r2.listen(source)\n",
    "\n",
    "        try:\n",
    "            print(\"Google Speech Recognition thinks you said \" + r2.recognize_google(audio2))\n",
    "            webbrowser.open_new(url+r2.recognize_google(audio2))\n",
    "        except sr.UnknownValueError:\n",
    "            print(\"Google Speech Recognition could not understand audio\")\n",
    "        except sr.RequestError as e:\n",
    "               print(\"Could not request results from Google Speech Recognition service; {0}\".format(e))\n",
    "\n",
    "\n",
    "if \"weather\" in r.recognize_google(audio):\n",
    "    # obtain audio from the microphone\n",
    "    r3 = sr.Recognizer()\n",
    "    url3 = 'https://www.wunderground.com/us/'\n",
    "    with sr.Microphone() as source:\n",
    "        print(\"Please say a city and state: \")\n",
    "        audio3 = r3.listen(source)\n",
    "\n",
    "        try:\n",
    "            print(\"Google Speech Recognition thinks you said \" + r3.recognize_google(audio3))\n",
    "            webbrowser.open_new(url3+r3.recognize_google(audio3))\n",
    "        except sr.UnknownValueError:\n",
    "            print(\"Google Speech Recognition could not understand audio\")\n",
    "        except sr.RequestError as e:\n",
    "               print(\"Could not request results from Google Speech Recognition service; {0}\".format(e))\n",
    "\n",
    "\n",
    "if \"restaurants\" in r.recognize_google(audio):\n",
    "    # obtain audio from the microphone\n",
    "    r4 = sr.Recognizer()\n",
    "    url4 = 'https://www.yelp.com/search?cflt=restaurants&find_loc='\n",
    "    with sr.Microphone() as source:\n",
    "        print(\"Please state a location to search for restaurants: \")\n",
    "        audio4 = r4.listen(source)\n",
    "\n",
    "        try:\n",
    "            print(\"Google Speech Recognition thinks you said \" + r4.recognize_google(audio4))\n",
    "            webbrowser.open_new(url4+r4.recognize_google(audio4))\n",
    "        except sr.UnknownValueError:\n",
    "            print(\"Google Speech Recognition could not understand audio\")\n",
    "        except sr.RequestError as e:\n",
    "               print(\"Could not request results from Google Speech Recognition service; {0}\".format(e))\n",
    "\n",
    "if \"search\" in r.recognize_google(audio):\n",
    "    # obtain audio from the microphone\n",
    "    r5 = sr.Recognizer()\n",
    "    \n",
    "    with sr.Microphone() as source:\n",
    "        print(\"what website would you like me to search for you? \")\n",
    "        audio5 = r5.listen(source)\n",
    "        url5= r5.recognize_google(audio5)\n",
    "\n",
    "        try:\n",
    "            print(\"Google Speech Recognition thinks you said \" + r5.recognize_google(audio5))\n",
    "            webbrowser.open_new(\"https://\"+url5+\".com\")\n",
    "        except sr.UnknownValueError:\n",
    "            print(\"Google Speech Recognition could not understand audio\")\n",
    "        except sr.RequestError as e:\n",
    "               print(\"Could not request results from Google Speech Recognition service; {0}\".format(e)) \n"
   ]
  },
  {
   "cell_type": "code",
   "execution_count": null,
   "metadata": {},
   "outputs": [],
   "source": []
  }
 ],
 "metadata": {
  "kernelspec": {
   "display_name": "Python 3",
   "language": "python",
   "name": "python3"
  },
  "language_info": {
   "codemirror_mode": {
    "name": "ipython",
    "version": 3
   },
   "file_extension": ".py",
   "mimetype": "text/x-python",
   "name": "python",
   "nbconvert_exporter": "python",
   "pygments_lexer": "ipython3",
   "version": "3.6.4"
  }
 },
 "nbformat": 4,
 "nbformat_minor": 2
}
