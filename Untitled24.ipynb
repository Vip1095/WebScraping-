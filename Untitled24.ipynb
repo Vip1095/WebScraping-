{
 "cells": [
  {
   "cell_type": "code",
   "execution_count": 1,
   "metadata": {},
   "outputs": [],
   "source": [
    "%matplotlib inline\n",
    "import pandas as pd\n",
    "import numpy as np\n",
    "import matplotlib.pyplot as plt\n",
    "import seaborn as sns\n",
    "sns.set(context='notebook', style='darkgrid', palette='deep', font='sans-serif')"
   ]
  },
  {
   "cell_type": "code",
   "execution_count": 10,
   "metadata": {},
   "outputs": [
    {
     "data": {
      "text/html": [
       "<div>\n",
       "<style scoped>\n",
       "    .dataframe tbody tr th:only-of-type {\n",
       "        vertical-align: middle;\n",
       "    }\n",
       "\n",
       "    .dataframe tbody tr th {\n",
       "        vertical-align: top;\n",
       "    }\n",
       "\n",
       "    .dataframe thead th {\n",
       "        text-align: right;\n",
       "    }\n",
       "</style>\n",
       "<table border=\"1\" class=\"dataframe\">\n",
       "  <thead>\n",
       "    <tr style=\"text-align: right;\">\n",
       "      <th></th>\n",
       "      <th>Student</th>\n",
       "      <th>SEX</th>\n",
       "      <th>AGE</th>\n",
       "      <th>READING</th>\n",
       "      <th>ANNOTATION</th>\n",
       "      <th>BACKTRACKING</th>\n",
       "      <th>UNDERLINE</th>\n",
       "      <th>KNOWLEDGE LEVEL</th>\n",
       "      <th>PERFORMANCE</th>\n",
       "    </tr>\n",
       "  </thead>\n",
       "  <tbody>\n",
       "    <tr>\n",
       "      <th>0</th>\n",
       "      <td>JIIT-128</td>\n",
       "      <td>B</td>\n",
       "      <td>22</td>\n",
       "      <td>1</td>\n",
       "      <td>1</td>\n",
       "      <td>4</td>\n",
       "      <td>1</td>\n",
       "      <td>60</td>\n",
       "      <td>GOOD</td>\n",
       "    </tr>\n",
       "    <tr>\n",
       "      <th>1</th>\n",
       "      <td>JIIT-128</td>\n",
       "      <td>G</td>\n",
       "      <td>19</td>\n",
       "      <td>3</td>\n",
       "      <td>5</td>\n",
       "      <td>2</td>\n",
       "      <td>2</td>\n",
       "      <td>34</td>\n",
       "      <td>BAD</td>\n",
       "    </tr>\n",
       "    <tr>\n",
       "      <th>2</th>\n",
       "      <td>JIIT-128</td>\n",
       "      <td>B</td>\n",
       "      <td>20</td>\n",
       "      <td>4</td>\n",
       "      <td>4</td>\n",
       "      <td>4</td>\n",
       "      <td>3</td>\n",
       "      <td>56</td>\n",
       "      <td>GOOD</td>\n",
       "    </tr>\n",
       "    <tr>\n",
       "      <th>3</th>\n",
       "      <td>JIIT-128</td>\n",
       "      <td>G</td>\n",
       "      <td>23</td>\n",
       "      <td>4</td>\n",
       "      <td>7</td>\n",
       "      <td>7</td>\n",
       "      <td>2</td>\n",
       "      <td>76</td>\n",
       "      <td>BAD</td>\n",
       "    </tr>\n",
       "    <tr>\n",
       "      <th>4</th>\n",
       "      <td>JIIT-62</td>\n",
       "      <td>G</td>\n",
       "      <td>22</td>\n",
       "      <td>2</td>\n",
       "      <td>8</td>\n",
       "      <td>3</td>\n",
       "      <td>2</td>\n",
       "      <td>67</td>\n",
       "      <td>GOOD</td>\n",
       "    </tr>\n",
       "  </tbody>\n",
       "</table>\n",
       "</div>"
      ],
      "text/plain": [
       "    Student SEX  AGE  READING  ANNOTATION  BACKTRACKING  UNDERLINE  \\\n",
       "0  JIIT-128   B   22        1           1             4          1   \n",
       "1  JIIT-128   G   19        3           5             2          2   \n",
       "2  JIIT-128   B   20        4           4             4          3   \n",
       "3  JIIT-128   G   23        4           7             7          2   \n",
       "4   JIIT-62   G   22        2           8             3          2   \n",
       "\n",
       "   KNOWLEDGE LEVEL PERFORMANCE  \n",
       "0               60        GOOD  \n",
       "1               34         BAD  \n",
       "2               56        GOOD  \n",
       "3               76         BAD  \n",
       "4               67        GOOD  "
      ]
     },
     "execution_count": 10,
     "metadata": {},
     "output_type": "execute_result"
    }
   ],
   "source": [
    "train = pd.read_csv(\"C://Users//Vipul//Documents//Student.csv\")\n",
    "train.head()"
   ]
  },
  {
   "cell_type": "code",
   "execution_count": 11,
   "metadata": {},
   "outputs": [
    {
     "name": "stdout",
     "output_type": "stream",
     "text": [
      "Number of rows: 29\n"
     ]
    }
   ],
   "source": [
    "print(\"Number of rows:\", train.shape[0])"
   ]
  },
  {
   "cell_type": "code",
   "execution_count": 12,
   "metadata": {},
   "outputs": [
    {
     "name": "stdout",
     "output_type": "stream",
     "text": [
      "<class 'pandas.core.frame.DataFrame'>\n",
      "RangeIndex: 29 entries, 0 to 28\n",
      "Data columns (total 9 columns):\n",
      "Student            29 non-null object\n",
      "SEX                29 non-null object\n",
      "AGE                29 non-null int64\n",
      "READING            29 non-null int64\n",
      "ANNOTATION         29 non-null int64\n",
      "BACKTRACKING       29 non-null int64\n",
      "UNDERLINE          29 non-null int64\n",
      "KNOWLEDGE LEVEL    29 non-null int64\n",
      "PERFORMANCE        29 non-null object\n",
      "dtypes: int64(6), object(3)\n",
      "memory usage: 2.1+ KB\n"
     ]
    }
   ],
   "source": [
    "train.info()"
   ]
  },
  {
   "cell_type": "code",
   "execution_count": 14,
   "metadata": {},
   "outputs": [
    {
     "data": {
      "text/plain": [
       "(29, 9)"
      ]
     },
     "execution_count": 14,
     "metadata": {},
     "output_type": "execute_result"
    }
   ],
   "source": [
    "train.shape"
   ]
  },
  {
   "cell_type": "code",
   "execution_count": 15,
   "metadata": {},
   "outputs": [
    {
     "data": {
      "text/html": [
       "<div>\n",
       "<style scoped>\n",
       "    .dataframe tbody tr th:only-of-type {\n",
       "        vertical-align: middle;\n",
       "    }\n",
       "\n",
       "    .dataframe tbody tr th {\n",
       "        vertical-align: top;\n",
       "    }\n",
       "\n",
       "    .dataframe thead th {\n",
       "        text-align: right;\n",
       "    }\n",
       "</style>\n",
       "<table border=\"1\" class=\"dataframe\">\n",
       "  <thead>\n",
       "    <tr style=\"text-align: right;\">\n",
       "      <th></th>\n",
       "      <th>AGE</th>\n",
       "      <th>READING</th>\n",
       "      <th>ANNOTATION</th>\n",
       "      <th>BACKTRACKING</th>\n",
       "      <th>UNDERLINE</th>\n",
       "      <th>KNOWLEDGE LEVEL</th>\n",
       "    </tr>\n",
       "  </thead>\n",
       "  <tbody>\n",
       "    <tr>\n",
       "      <th>count</th>\n",
       "      <td>29.000000</td>\n",
       "      <td>29.000000</td>\n",
       "      <td>29.000000</td>\n",
       "      <td>29.000000</td>\n",
       "      <td>29.000000</td>\n",
       "      <td>29.000000</td>\n",
       "    </tr>\n",
       "    <tr>\n",
       "      <th>mean</th>\n",
       "      <td>21.206897</td>\n",
       "      <td>3.000000</td>\n",
       "      <td>5.655172</td>\n",
       "      <td>5.241379</td>\n",
       "      <td>2.275862</td>\n",
       "      <td>58.344828</td>\n",
       "    </tr>\n",
       "    <tr>\n",
       "      <th>std</th>\n",
       "      <td>2.469519</td>\n",
       "      <td>1.224745</td>\n",
       "      <td>2.742208</td>\n",
       "      <td>2.785872</td>\n",
       "      <td>0.797162</td>\n",
       "      <td>22.399419</td>\n",
       "    </tr>\n",
       "    <tr>\n",
       "      <th>min</th>\n",
       "      <td>15.000000</td>\n",
       "      <td>1.000000</td>\n",
       "      <td>1.000000</td>\n",
       "      <td>1.000000</td>\n",
       "      <td>1.000000</td>\n",
       "      <td>23.000000</td>\n",
       "    </tr>\n",
       "    <tr>\n",
       "      <th>25%</th>\n",
       "      <td>20.000000</td>\n",
       "      <td>2.000000</td>\n",
       "      <td>3.000000</td>\n",
       "      <td>3.000000</td>\n",
       "      <td>2.000000</td>\n",
       "      <td>35.000000</td>\n",
       "    </tr>\n",
       "    <tr>\n",
       "      <th>50%</th>\n",
       "      <td>21.000000</td>\n",
       "      <td>3.000000</td>\n",
       "      <td>6.000000</td>\n",
       "      <td>4.000000</td>\n",
       "      <td>2.000000</td>\n",
       "      <td>56.000000</td>\n",
       "    </tr>\n",
       "    <tr>\n",
       "      <th>75%</th>\n",
       "      <td>22.000000</td>\n",
       "      <td>4.000000</td>\n",
       "      <td>8.000000</td>\n",
       "      <td>8.000000</td>\n",
       "      <td>3.000000</td>\n",
       "      <td>76.000000</td>\n",
       "    </tr>\n",
       "    <tr>\n",
       "      <th>max</th>\n",
       "      <td>30.000000</td>\n",
       "      <td>5.000000</td>\n",
       "      <td>9.000000</td>\n",
       "      <td>9.000000</td>\n",
       "      <td>3.000000</td>\n",
       "      <td>98.000000</td>\n",
       "    </tr>\n",
       "  </tbody>\n",
       "</table>\n",
       "</div>"
      ],
      "text/plain": [
       "             AGE    READING  ANNOTATION  BACKTRACKING  UNDERLINE  \\\n",
       "count  29.000000  29.000000   29.000000     29.000000  29.000000   \n",
       "mean   21.206897   3.000000    5.655172      5.241379   2.275862   \n",
       "std     2.469519   1.224745    2.742208      2.785872   0.797162   \n",
       "min    15.000000   1.000000    1.000000      1.000000   1.000000   \n",
       "25%    20.000000   2.000000    3.000000      3.000000   2.000000   \n",
       "50%    21.000000   3.000000    6.000000      4.000000   2.000000   \n",
       "75%    22.000000   4.000000    8.000000      8.000000   3.000000   \n",
       "max    30.000000   5.000000    9.000000      9.000000   3.000000   \n",
       "\n",
       "       KNOWLEDGE LEVEL  \n",
       "count        29.000000  \n",
       "mean         58.344828  \n",
       "std          22.399419  \n",
       "min          23.000000  \n",
       "25%          35.000000  \n",
       "50%          56.000000  \n",
       "75%          76.000000  \n",
       "max          98.000000  "
      ]
     },
     "execution_count": 15,
     "metadata": {},
     "output_type": "execute_result"
    }
   ],
   "source": [
    "train.describe()"
   ]
  },
  {
   "cell_type": "code",
   "execution_count": 16,
   "metadata": {},
   "outputs": [
    {
     "data": {
      "text/html": [
       "<div>\n",
       "<style scoped>\n",
       "    .dataframe tbody tr th:only-of-type {\n",
       "        vertical-align: middle;\n",
       "    }\n",
       "\n",
       "    .dataframe tbody tr th {\n",
       "        vertical-align: top;\n",
       "    }\n",
       "\n",
       "    .dataframe thead th {\n",
       "        text-align: right;\n",
       "    }\n",
       "</style>\n",
       "<table border=\"1\" class=\"dataframe\">\n",
       "  <thead>\n",
       "    <tr style=\"text-align: right;\">\n",
       "      <th></th>\n",
       "      <th>Student</th>\n",
       "      <th>SEX</th>\n",
       "      <th>AGE</th>\n",
       "      <th>READING</th>\n",
       "      <th>ANNOTATION</th>\n",
       "      <th>BACKTRACKING</th>\n",
       "      <th>UNDERLINE</th>\n",
       "      <th>KNOWLEDGE LEVEL</th>\n",
       "      <th>PERFORMANCE</th>\n",
       "    </tr>\n",
       "  </thead>\n",
       "  <tbody>\n",
       "    <tr>\n",
       "      <th>0</th>\n",
       "      <td>1</td>\n",
       "      <td>1</td>\n",
       "      <td>22</td>\n",
       "      <td>1</td>\n",
       "      <td>1</td>\n",
       "      <td>4</td>\n",
       "      <td>1</td>\n",
       "      <td>60</td>\n",
       "      <td>1</td>\n",
       "    </tr>\n",
       "    <tr>\n",
       "      <th>1</th>\n",
       "      <td>1</td>\n",
       "      <td>0</td>\n",
       "      <td>19</td>\n",
       "      <td>3</td>\n",
       "      <td>5</td>\n",
       "      <td>2</td>\n",
       "      <td>2</td>\n",
       "      <td>34</td>\n",
       "      <td>0</td>\n",
       "    </tr>\n",
       "    <tr>\n",
       "      <th>2</th>\n",
       "      <td>1</td>\n",
       "      <td>1</td>\n",
       "      <td>20</td>\n",
       "      <td>4</td>\n",
       "      <td>4</td>\n",
       "      <td>4</td>\n",
       "      <td>3</td>\n",
       "      <td>56</td>\n",
       "      <td>1</td>\n",
       "    </tr>\n",
       "    <tr>\n",
       "      <th>3</th>\n",
       "      <td>1</td>\n",
       "      <td>0</td>\n",
       "      <td>23</td>\n",
       "      <td>4</td>\n",
       "      <td>7</td>\n",
       "      <td>7</td>\n",
       "      <td>2</td>\n",
       "      <td>76</td>\n",
       "      <td>0</td>\n",
       "    </tr>\n",
       "    <tr>\n",
       "      <th>4</th>\n",
       "      <td>0</td>\n",
       "      <td>0</td>\n",
       "      <td>22</td>\n",
       "      <td>2</td>\n",
       "      <td>8</td>\n",
       "      <td>3</td>\n",
       "      <td>2</td>\n",
       "      <td>67</td>\n",
       "      <td>1</td>\n",
       "    </tr>\n",
       "  </tbody>\n",
       "</table>\n",
       "</div>"
      ],
      "text/plain": [
       "   Student  SEX  AGE  READING  ANNOTATION  BACKTRACKING  UNDERLINE  \\\n",
       "0        1    1   22        1           1             4          1   \n",
       "1        1    0   19        3           5             2          2   \n",
       "2        1    1   20        4           4             4          3   \n",
       "3        1    0   23        4           7             7          2   \n",
       "4        0    0   22        2           8             3          2   \n",
       "\n",
       "   KNOWLEDGE LEVEL  PERFORMANCE  \n",
       "0               60            1  \n",
       "1               34            0  \n",
       "2               56            1  \n",
       "3               76            0  \n",
       "4               67            1  "
      ]
     },
     "execution_count": 16,
     "metadata": {},
     "output_type": "execute_result"
    }
   ],
   "source": [
    "train['Student'] = train['Student'].apply(lambda x: 1 if x == 'JIIT-128' else 0)\n",
    "train['SEX'] = train['SEX'].apply(lambda x: 1 if x == 'B' else 0)\n",
    "train['PERFORMANCE'] = train['PERFORMANCE'].apply(lambda x: 1 if x == 'GOOD' else 0)\n",
    "train.head()\n"
   ]
  },
  {
   "cell_type": "code",
   "execution_count": 17,
   "metadata": {},
   "outputs": [
    {
     "data": {
      "text/html": [
       "<div>\n",
       "<style scoped>\n",
       "    .dataframe tbody tr th:only-of-type {\n",
       "        vertical-align: middle;\n",
       "    }\n",
       "\n",
       "    .dataframe tbody tr th {\n",
       "        vertical-align: top;\n",
       "    }\n",
       "\n",
       "    .dataframe thead th {\n",
       "        text-align: right;\n",
       "    }\n",
       "</style>\n",
       "<table border=\"1\" class=\"dataframe\">\n",
       "  <thead>\n",
       "    <tr style=\"text-align: right;\">\n",
       "      <th></th>\n",
       "      <th>Student</th>\n",
       "      <th>SEX</th>\n",
       "      <th>AGE</th>\n",
       "      <th>READING</th>\n",
       "      <th>ANNOTATION</th>\n",
       "      <th>BACKTRACKING</th>\n",
       "      <th>UNDERLINE</th>\n",
       "      <th>KNOWLEDGE LEVEL</th>\n",
       "      <th>PERFORMANCE</th>\n",
       "    </tr>\n",
       "  </thead>\n",
       "  <tbody>\n",
       "    <tr>\n",
       "      <th>count</th>\n",
       "      <td>29.000000</td>\n",
       "      <td>29.000000</td>\n",
       "      <td>29.000000</td>\n",
       "      <td>29.000000</td>\n",
       "      <td>29.000000</td>\n",
       "      <td>29.000000</td>\n",
       "      <td>29.000000</td>\n",
       "      <td>29.000000</td>\n",
       "      <td>29.000000</td>\n",
       "    </tr>\n",
       "    <tr>\n",
       "      <th>mean</th>\n",
       "      <td>0.620690</td>\n",
       "      <td>0.517241</td>\n",
       "      <td>21.206897</td>\n",
       "      <td>3.000000</td>\n",
       "      <td>5.655172</td>\n",
       "      <td>5.241379</td>\n",
       "      <td>2.275862</td>\n",
       "      <td>58.344828</td>\n",
       "      <td>0.551724</td>\n",
       "    </tr>\n",
       "    <tr>\n",
       "      <th>std</th>\n",
       "      <td>0.493804</td>\n",
       "      <td>0.508548</td>\n",
       "      <td>2.469519</td>\n",
       "      <td>1.224745</td>\n",
       "      <td>2.742208</td>\n",
       "      <td>2.785872</td>\n",
       "      <td>0.797162</td>\n",
       "      <td>22.399419</td>\n",
       "      <td>0.506120</td>\n",
       "    </tr>\n",
       "    <tr>\n",
       "      <th>min</th>\n",
       "      <td>0.000000</td>\n",
       "      <td>0.000000</td>\n",
       "      <td>15.000000</td>\n",
       "      <td>1.000000</td>\n",
       "      <td>1.000000</td>\n",
       "      <td>1.000000</td>\n",
       "      <td>1.000000</td>\n",
       "      <td>23.000000</td>\n",
       "      <td>0.000000</td>\n",
       "    </tr>\n",
       "    <tr>\n",
       "      <th>25%</th>\n",
       "      <td>0.000000</td>\n",
       "      <td>0.000000</td>\n",
       "      <td>20.000000</td>\n",
       "      <td>2.000000</td>\n",
       "      <td>3.000000</td>\n",
       "      <td>3.000000</td>\n",
       "      <td>2.000000</td>\n",
       "      <td>35.000000</td>\n",
       "      <td>0.000000</td>\n",
       "    </tr>\n",
       "    <tr>\n",
       "      <th>50%</th>\n",
       "      <td>1.000000</td>\n",
       "      <td>1.000000</td>\n",
       "      <td>21.000000</td>\n",
       "      <td>3.000000</td>\n",
       "      <td>6.000000</td>\n",
       "      <td>4.000000</td>\n",
       "      <td>2.000000</td>\n",
       "      <td>56.000000</td>\n",
       "      <td>1.000000</td>\n",
       "    </tr>\n",
       "    <tr>\n",
       "      <th>75%</th>\n",
       "      <td>1.000000</td>\n",
       "      <td>1.000000</td>\n",
       "      <td>22.000000</td>\n",
       "      <td>4.000000</td>\n",
       "      <td>8.000000</td>\n",
       "      <td>8.000000</td>\n",
       "      <td>3.000000</td>\n",
       "      <td>76.000000</td>\n",
       "      <td>1.000000</td>\n",
       "    </tr>\n",
       "    <tr>\n",
       "      <th>max</th>\n",
       "      <td>1.000000</td>\n",
       "      <td>1.000000</td>\n",
       "      <td>30.000000</td>\n",
       "      <td>5.000000</td>\n",
       "      <td>9.000000</td>\n",
       "      <td>9.000000</td>\n",
       "      <td>3.000000</td>\n",
       "      <td>98.000000</td>\n",
       "      <td>1.000000</td>\n",
       "    </tr>\n",
       "  </tbody>\n",
       "</table>\n",
       "</div>"
      ],
      "text/plain": [
       "         Student        SEX        AGE    READING  ANNOTATION  BACKTRACKING  \\\n",
       "count  29.000000  29.000000  29.000000  29.000000   29.000000     29.000000   \n",
       "mean    0.620690   0.517241  21.206897   3.000000    5.655172      5.241379   \n",
       "std     0.493804   0.508548   2.469519   1.224745    2.742208      2.785872   \n",
       "min     0.000000   0.000000  15.000000   1.000000    1.000000      1.000000   \n",
       "25%     0.000000   0.000000  20.000000   2.000000    3.000000      3.000000   \n",
       "50%     1.000000   1.000000  21.000000   3.000000    6.000000      4.000000   \n",
       "75%     1.000000   1.000000  22.000000   4.000000    8.000000      8.000000   \n",
       "max     1.000000   1.000000  30.000000   5.000000    9.000000      9.000000   \n",
       "\n",
       "       UNDERLINE  KNOWLEDGE LEVEL  PERFORMANCE  \n",
       "count  29.000000        29.000000    29.000000  \n",
       "mean    2.275862        58.344828     0.551724  \n",
       "std     0.797162        22.399419     0.506120  \n",
       "min     1.000000        23.000000     0.000000  \n",
       "25%     2.000000        35.000000     0.000000  \n",
       "50%     2.000000        56.000000     1.000000  \n",
       "75%     3.000000        76.000000     1.000000  \n",
       "max     3.000000        98.000000     1.000000  "
      ]
     },
     "execution_count": 17,
     "metadata": {},
     "output_type": "execute_result"
    }
   ],
   "source": [
    "train.describe()\n"
   ]
  },
  {
   "cell_type": "code",
   "execution_count": 18,
   "metadata": {},
   "outputs": [
    {
     "data": {
      "image/png": "[encoded data removed]",
      "text/plain": [
       "<matplotlib.figure.Figure at 0x1d4ab1530f0>"
      ]
     },
     "metadata": {},
     "output_type": "display_data"
    }
   ],
   "source": [
    "plt.figure(figsize=(9,9))\n",
    "sns.heatmap(train.corr(), square=True, linewidths=.5, cmap='seismic')\n",
    "plt.show()"
   ]
  },
  {
   "cell_type": "code",
   "execution_count": 20,
   "metadata": {},
   "outputs": [
    {
     "data": {
      "image/png": "[encoded data removed]",
      "text/plain": [
       "<matplotlib.figure.Figure at 0x1d4ab3b29e8>"
      ]
     },
     "metadata": {},
     "output_type": "display_data"
    }
   ],
   "source": [
    "plt.hist(train['AGE'], rwidth=0.8, bins=8)\n",
    "plt.title('Age of students')\n",
    "plt.xlabel('AGE')\n",
    "plt.ylabel('Student')\n",
    "plt.show()"
   ]
  },
  {
   "cell_type": "code",
   "execution_count": 21,
   "metadata": {},
   "outputs": [
    {
     "data": {
      "image/png": "[encoded data removed]",
      "text/plain": [
       "<matplotlib.figure.Figure at 0x1d4ab9e8518>"
      ]
     },
     "metadata": {},
     "output_type": "display_data"
    }
   ],
   "source": [
    "plt.pie([np.sum(train['SEX'] == True), np.sum(train['SEX'] == False)], labels=['BOYS', 'GIRLS'], colors=['b', 'pink'])\n",
    "plt.title('Sex')\n",
    "plt.show()"
   ]
  },
  {
   "cell_type": "code",
   "execution_count": 22,
   "metadata": {},
   "outputs": [
    {
     "data": {
      "image/png": "[encoded data removed]",
      "text/plain": [
       "<matplotlib.figure.Figure at 0x1d4aba193c8>"
      ]
     },
     "metadata": {},
     "output_type": "display_data"
    }
   ],
   "source": [
    "plt.pie([np.sum(train['Student'] == True), np.sum(train['Student'] == False)], labels=['JIIT-128', 'JIIT-62'], colors=['b', 'g'])\n",
    "plt.title('Students')\n",
    "plt.show()"
   ]
  },
  {
   "cell_type": "code",
   "execution_count": 24,
   "metadata": {},
   "outputs": [
    {
     "data": {
      "image/png": "[encoded data removed]",
      "text/plain": [
       "<matplotlib.figure.Figure at 0x1d4aba49c18>"
      ]
     },
     "metadata": {},
     "output_type": "display_data"
    }
   ],
   "source": [
    "plt.hist(train['READING'], rwidth=0.8, bins=5, range=[1, 5])\n",
    "plt.title('HOW much Daily he/she reads ??')\n",
    "plt.xlabel('READING(hours) rated on scale of 1 to 5')\n",
    "plt.ylabel('Number of students')\n",
    "plt.show()"
   ]
  },
  {
   "cell_type": "code",
   "execution_count": 25,
   "metadata": {},
   "outputs": [
    {
     "data": {
      "image/png": "[encoded data removed]",
      "text/plain": [
       "<matplotlib.figure.Figure at 0x1d4ab9d20f0>"
      ]
     },
     "metadata": {},
     "output_type": "display_data"
    }
   ],
   "source": [
    "plt.hist(train['ANNOTATION'], rwidth=0.8, bins=5, range=[1, 10])\n",
    "plt.title('ANNOTATIONS ??')\n",
    "plt.xlabel('ANNOTATION rated on scale of 1 to 10')\n",
    "plt.ylabel('Number of students')\n",
    "plt.show()"
   ]
  },
  {
   "cell_type": "code",
   "execution_count": 26,
   "metadata": {},
   "outputs": [
    {
     "data": {
      "image/png": "[encoded data removed]",
      "text/plain": [
       "<matplotlib.figure.Figure at 0x1d4ab30bc50>"
      ]
     },
     "metadata": {},
     "output_type": "display_data"
    }
   ],
   "source": [
    "plt.hist(train['KNOWLEDGE LEVEL'], rwidth=0.8, bins=5, range=[1, 100])\n",
    "plt.title('Knowlwdge Levels ??')\n",
    "plt.xlabel('Knowledge levels rated on scale of 1 to 100')\n",
    "plt.ylabel('Number of students')\n",
    "plt.show()"
   ]
  },
  {
   "cell_type": "code",
   "execution_count": 30,
   "metadata": {},
   "outputs": [
    {
     "name": "stdout",
     "output_type": "stream",
     "text": [
      "X.shape: (29, 4)\n",
      "y.shape: (29,)\n"
     ]
    }
   ],
   "source": [
    "X = train.drop(['READING','ANNOTATION','BACKTRACKING','UNDERLINE','KNOWLEDGE LEVEL'], axis = 1)\n",
    "y = train['PERFORMANCE']\n",
    "\n",
    "print(\"X.shape:\", X.shape)\n",
    "print(\"y.shape:\", y.shape)"
   ]
  },
  {
   "cell_type": "code",
   "execution_count": 32,
   "metadata": {},
   "outputs": [
    {
     "name": "stdout",
     "output_type": "stream",
     "text": [
      "Train dataset size:  5\n",
      "CV size:  16\n",
      "Test size:  8\n"
     ]
    },
    {
     "name": "stderr",
     "output_type": "stream",
     "text": [
      "F:\\anacon\\lib\\site-packages\\sklearn\\model_selection\\_split.py:2026: FutureWarning: From version 0.21, test_size will always complement train_size unless both are specified.\n",
      "  FutureWarning)\n"
     ]
    }
   ],
   "source": [
    "from sklearn.model_selection import train_test_split\n",
    "X_train, X_other, y_train, y_other = train_test_split(X, y, train_size=0.2)\n",
    "X_cv, X_test, y_cv, y_test = train_test_split(X_other, y_other, test_size=0.3)\n",
    "\n",
    "print(\"Train dataset size: \", X_train.shape[0])\n",
    "print(\"CV size: \", X_cv.shape[0])\n",
    "print(\"Test size: \", X_test.shape[0])"
   ]
  },
  {
   "cell_type": "code",
   "execution_count": 33,
   "metadata": {},
   "outputs": [],
   "source": [
    "from sklearn.tree import DecisionTreeRegressor\n",
    "from sklearn.linear_model import LinearRegression, Lasso, Ridge\n",
    "\n",
    "clf_list = [DecisionTreeRegressor(), LinearRegression(), Ridge(), Lasso()]"
   ]
  },
  {
   "cell_type": "code",
   "execution_count": 34,
   "metadata": {},
   "outputs": [
    {
     "name": "stdout",
     "output_type": "stream",
     "text": [
      "DecisionTreeRegressor 1.0\n",
      "LinearRegression 1.0\n",
      "Ridge 0.64247460757156\n",
      "Lasso -0.2160000000000002\n"
     ]
    }
   ],
   "source": [
    "for clf in clf_list:\n",
    "    clf = clf.fit(X_train, y_train)\n",
    "    print(clf.__class__.__name__, clf.score(X_cv, y_cv))"
   ]
  },
  {
   "cell_type": "code",
   "execution_count": 36,
   "metadata": {},
   "outputs": [
    {
     "name": "stdout",
     "output_type": "stream",
     "text": [
      "Final Score (the coefficient of determination R^2 of the prediction): -0.040000000000000036\n"
     ]
    }
   ],
   "source": [
    "clf = Lasso()\n",
    "clf = clf.fit(X_train, y_train)\n",
    "print('Final Score (the coefficient of determination R^2 of the prediction):', clf.score(X_test, y_test))\n"
   ]
  },
  {
   "cell_type": "code",
   "execution_count": null,
   "metadata": {},
   "outputs": [],
   "source": []
  }
 ],
 "metadata": {
  "kernelspec": {
   "display_name": "Python 3",
   "language": "python",
   "name": "python3"
  },
  "language_info": {
   "codemirror_mode": {
    "name": "ipython",
    "version": 3
   },
   "file_extension": ".py",
   "mimetype": "text/x-python",
   "name": "python",
   "nbconvert_exporter": "python",
   "pygments_lexer": "ipython3",
   "version": "3.6.4"
  }
 },
 "nbformat": 4,
 "nbformat_minor": 2
}
